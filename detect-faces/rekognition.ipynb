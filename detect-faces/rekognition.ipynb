{
 "cells": [
  {
   "cell_type": "code",
   "execution_count": 8,
   "metadata": {},
   "outputs": [],
   "source": [
    "import boto3\n",
    "import json\n",
    "\n",
    "client = boto3.client('rekognition')"
   ]
  },
  {
   "cell_type": "markdown",
   "metadata": {},
   "source": [
    "[rekognition 官方示例](https://console.aws.amazon.com/rekognition/home?region=us-east-1#/face-detection)\n",
    "\n",
    "\n",
    "![Image](https://s3.amazonaws.com/dikers.nwcd/sleep.jpg)"
   ]
  },
  {
   "cell_type": "code",
   "execution_count": 21,
   "metadata": {},
   "outputs": [
    {
     "name": "stdout",
     "output_type": "stream",
     "text": [
      "{'BoundingBox': {'Width': 0.17371128499507904, 'Height': 0.476167231798172, 'Left': 0.6545696258544922, 'Top': 0.14288131892681122}, 'AgeRange': {'Low': 27, 'High': 43}, 'Smile': {'Value': False, 'Confidence': 95.31534576416016}, 'Eyeglasses': {'Value': False, 'Confidence': 98.70780944824219}, 'Sunglasses': {'Value': False, 'Confidence': 99.58641052246094}, 'Gender': {'Value': 'Male', 'Confidence': 88.62410736083984}, 'Beard': {'Value': True, 'Confidence': 56.82665252685547}, 'Mustache': {'Value': False, 'Confidence': 89.97136688232422}, 'EyesOpen': {'Value': True, 'Confidence': 73.214599609375}, 'MouthOpen': {'Value': False, 'Confidence': 50.22233581542969}, 'Emotions': [{'Type': 'CALM', 'Confidence': 2.9992387294769287}, {'Type': 'SURPRISED', 'Confidence': 41.722660064697266}, {'Type': 'FEAR', 'Confidence': 20.97882843017578}, {'Type': 'SAD', 'Confidence': 0.5667180418968201}, {'Type': 'DISGUSTED', 'Confidence': 20.19882583618164}, {'Type': 'ANGRY', 'Confidence': 10.964524269104004}, {'Type': 'CONFUSED', 'Confidence': 2.0848119258880615}, {'Type': 'HAPPY', 'Confidence': 0.48439162969589233}], 'Landmarks': [{'Type': 'eyeLeft', 'X': 0.6720166802406311, 'Y': 0.28061428666114807}, {'Type': 'eyeRight', 'X': 0.7283490896224976, 'Y': 0.2938125431537628}, {'Type': 'mouthLeft', 'X': 0.6628143191337585, 'Y': 0.4390392601490021}, {'Type': 'mouthRight', 'X': 0.7072927951812744, 'Y': 0.45104676485061646}, {'Type': 'nose', 'X': 0.6574565172195435, 'Y': 0.3510390818119049}, {'Type': 'leftEyeBrowLeft', 'X': 0.6618442535400391, 'Y': 0.24954499304294586}, {'Type': 'leftEyeBrowRight', 'X': 0.6733751893043518, 'Y': 0.23192445933818817}, {'Type': 'leftEyeBrowUp', 'X': 0.663278341293335, 'Y': 0.227584570646286}, {'Type': 'rightEyeBrowLeft', 'X': 0.7075446248054504, 'Y': 0.23851630091667175}, {'Type': 'rightEyeBrowRight', 'X': 0.7672320604324341, 'Y': 0.27126646041870117}, {'Type': 'rightEyeBrowUp', 'X': 0.7326622605323792, 'Y': 0.23822207748889923}, {'Type': 'leftEyeLeft', 'X': 0.6658413410186768, 'Y': 0.28147709369659424}, {'Type': 'leftEyeRight', 'X': 0.6828091144561768, 'Y': 0.2869619131088257}, {'Type': 'leftEyeUp', 'X': 0.6698896884918213, 'Y': 0.2740420699119568}, {'Type': 'leftEyeDown', 'X': 0.6701644659042358, 'Y': 0.2880123257637024}, {'Type': 'rightEyeLeft', 'X': 0.7180388569831848, 'Y': 0.29529184103012085}, {'Type': 'rightEyeRight', 'X': 0.7452458143234253, 'Y': 0.30125829577445984}, {'Type': 'rightEyeUp', 'X': 0.7288108468055725, 'Y': 0.28861305117607117}, {'Type': 'rightEyeDown', 'X': 0.7282158136367798, 'Y': 0.30273762345314026}, {'Type': 'noseLeft', 'X': 0.6648122072219849, 'Y': 0.37873438000679016}, {'Type': 'noseRight', 'X': 0.6899042129516602, 'Y': 0.3799363076686859}, {'Type': 'mouthUp', 'X': 0.6708042621612549, 'Y': 0.40991726517677307}, {'Type': 'mouthDown', 'X': 0.672110915184021, 'Y': 0.45618125796318054}, {'Type': 'leftPupil', 'X': 0.6720166802406311, 'Y': 0.28061428666114807}, {'Type': 'rightPupil', 'X': 0.7283490896224976, 'Y': 0.2938125431537628}, {'Type': 'upperJawlineLeft', 'X': 0.698767900466919, 'Y': 0.31013432145118713}, {'Type': 'midJawlineLeft', 'X': 0.6870723366737366, 'Y': 0.46148937940597534}, {'Type': 'chinBottom', 'X': 0.6825732588768005, 'Y': 0.5362319946289062}, {'Type': 'midJawlineRight', 'X': 0.7951635122299194, 'Y': 0.4881855845451355}, {'Type': 'upperJawlineRight', 'X': 0.832942545413971, 'Y': 0.34281760454177856}], 'Pose': {'Roll': 1.5746124982833862, 'Yaw': -54.57069396972656, 'Pitch': 3.509108066558838}, 'Quality': {'Brightness': 91.84449005126953, 'Sharpness': 86.86019134521484}, 'Confidence': 99.9999771118164}\n"
     ]
    }
   ],
   "source": [
    "response = client.detect_faces(\n",
    "    Image={\n",
    "        \n",
    "        'S3Object': {\n",
    "            'Bucket': 'dikers.nwcd',\n",
    "            'Name': 'sleep.jpg'\n",
    "        }\n",
    "    },\n",
    "    Attributes=[\n",
    "        'ALL'\n",
    "    ]\n",
    ")\n",
    "\n",
    "print(response['FaceDetails'][0])\n"
   ]
  },
  {
   "cell_type": "markdown",
   "metadata": {},
   "source": [
    "![Image](./images/001.png)"
   ]
  },
  {
   "cell_type": "code",
   "execution_count": 22,
   "metadata": {},
   "outputs": [
    {
     "name": "stdout",
     "output_type": "stream",
     "text": [
      "{'Value': True, 'Confidence': 73.214599609375}\n"
     ]
    }
   ],
   "source": [
    "print( response['FaceDetails'][0]['EyesOpen'])"
   ]
  },
  {
   "cell_type": "markdown",
   "metadata": {},
   "source": [
    "[rekognition 官方示例](https://console.aws.amazon.com/rekognition/home?region=us-east-1#/label-detection)\n",
    "\n",
    "\n",
    "![Image](https://s3.amazonaws.com/dikers.nwcd/skateboard.jpg)"
   ]
  },
  {
   "cell_type": "code",
   "execution_count": 23,
   "metadata": {},
   "outputs": [
    {
     "name": "stdout",
     "output_type": "stream",
     "text": [
      "{'Labels': [{'Name': 'Car', 'Confidence': 99.15271759033203, 'Instances': [{'BoundingBox': {'Width': 0.10616336017847061, 'Height': 0.18528179824352264, 'Left': 0.0037978808395564556, 'Top': 0.5039216876029968}, 'Confidence': 99.15271759033203}, {'BoundingBox': {'Width': 0.2429988533258438, 'Height': 0.21577216684818268, 'Left': 0.7309805154800415, 'Top': 0.5251884460449219}, 'Confidence': 99.1286392211914}, {'BoundingBox': {'Width': 0.14233611524105072, 'Height': 0.15528248250484467, 'Left': 0.6494812965393066, 'Top': 0.5333095788955688}, 'Confidence': 98.48368072509766}, {'BoundingBox': {'Width': 0.11086395382881165, 'Height': 0.10271988064050674, 'Left': 0.10355594009160995, 'Top': 0.5354844927787781}, 'Confidence': 96.45606231689453}, {'BoundingBox': {'Width': 0.06254628300666809, 'Height': 0.053911514580249786, 'Left': 0.46083059906959534, 'Top': 0.5573825240135193}, 'Confidence': 93.65448760986328}, {'BoundingBox': {'Width': 0.10105438530445099, 'Height': 0.12226245552301407, 'Left': 0.5743985772132874, 'Top': 0.534368634223938}, 'Confidence': 93.06217193603516}, {'BoundingBox': {'Width': 0.056389667093753815, 'Height': 0.17163699865341187, 'Left': 0.9427769780158997, 'Top': 0.5235804319381714}, 'Confidence': 92.6864013671875}, {'BoundingBox': {'Width': 0.06003860384225845, 'Height': 0.06737709045410156, 'Left': 0.22409997880458832, 'Top': 0.5441341400146484}, 'Confidence': 90.4227066040039}, {'BoundingBox': {'Width': 0.02848697081208229, 'Height': 0.19150497019290924, 'Left': 0.0, 'Top': 0.5107086896896362}, 'Confidence': 86.65286254882812}, {'BoundingBox': {'Width': 0.04067881405353546, 'Height': 0.03428703173995018, 'Left': 0.316415935754776, 'Top': 0.5566273927688599}, 'Confidence': 85.36471557617188}, {'BoundingBox': {'Width': 0.043411049991846085, 'Height': 0.0893595889210701, 'Left': 0.18293385207653046, 'Top': 0.5394920110702515}, 'Confidence': 82.21705627441406}, {'BoundingBox': {'Width': 0.031183116137981415, 'Height': 0.03989990055561066, 'Left': 0.2853088080883026, 'Top': 0.5579366683959961}, 'Confidence': 81.0157470703125}, {'BoundingBox': {'Width': 0.031113790348172188, 'Height': 0.056484755128622055, 'Left': 0.2580395042896271, 'Top': 0.5504819750785828}, 'Confidence': 56.13441467285156}, {'BoundingBox': {'Width': 0.08586374670267105, 'Height': 0.08550430089235306, 'Left': 0.5128012895584106, 'Top': 0.5438792705535889}, 'Confidence': 52.37760925292969}], 'Parents': []}, {'Name': 'Person', 'Confidence': 98.9914321899414, 'Instances': [{'BoundingBox': {'Width': 0.19360728561878204, 'Height': 0.2742200493812561, 'Left': 0.43734854459762573, 'Top': 0.35072067379951477}, 'Confidence': 98.9914321899414}, {'BoundingBox': {'Width': 0.03801717236638069, 'Height': 0.06597328186035156, 'Left': 0.9155802130699158, 'Top': 0.5010883808135986}, 'Confidence': 85.02790832519531}], 'Parents': []}, {'Name': 'Wheel', 'Confidence': 93.24951934814453, 'Instances': [{'BoundingBox': {'Width': 0.03561960905790329, 'Height': 0.08878646790981293, 'Left': 0.7850857377052307, 'Top': 0.6468243598937988}, 'Confidence': 93.24951934814453}, {'BoundingBox': {'Width': 0.02217046171426773, 'Height': 0.07136218994855881, 'Left': 0.04757237061858177, 'Top': 0.6149078607559204}, 'Confidence': 91.5025863647461}, {'BoundingBox': {'Width': 0.016197510063648224, 'Height': 0.04955997318029404, 'Left': 0.6472989320755005, 'Top': 0.6274210214614868}, 'Confidence': 85.14686584472656}, {'BoundingBox': {'Width': 0.020207518711686134, 'Height': 0.07059963047504425, 'Left': 0.7295016646385193, 'Top': 0.6348286867141724}, 'Confidence': 83.34547424316406}, {'BoundingBox': {'Width': 0.020280985161662102, 'Height': 0.05297485366463661, 'Left': 0.08744934946298599, 'Top': 0.6171894669532776}, 'Confidence': 79.9981460571289}, {'BoundingBox': {'Width': 0.018318990245461464, 'Height': 0.06730121374130249, 'Left': 0.6836880445480347, 'Top': 0.623889148235321}, 'Confidence': 78.87144470214844}, {'BoundingBox': {'Width': 0.021310249343514442, 'Height': 0.08317798376083374, 'Left': 0.004064912907779217, 'Top': 0.6167286038398743}, 'Confidence': 75.89361572265625}, {'BoundingBox': {'Width': 0.03604431077837944, 'Height': 0.04569442570209503, 'Left': 0.9254803657531738, 'Top': 0.7030032277107239}, 'Confidence': 64.402587890625}, {'BoundingBox': {'Width': 0.009834849275648594, 'Height': 0.01964157074689865, 'Left': 0.28094568848609924, 'Top': 0.5821820497512817}, 'Confidence': 62.79907989501953}, {'BoundingBox': {'Width': 0.01475677452981472, 'Height': 0.039063986390829086, 'Left': 0.5950819253921509, 'Top': 0.6137543320655823}, 'Confidence': 59.40483474731445}], 'Parents': []}, {'Name': 'Road', 'Confidence': 92.61514282226562, 'Instances': [], 'Parents': []}, {'Name': 'Skateboard', 'Confidence': 92.37877655029297, 'Instances': [{'BoundingBox': {'Width': 0.12326609343290329, 'Height': 0.058117982000112534, 'Left': 0.44815489649772644, 'Top': 0.6332163214683533}, 'Confidence': 92.37877655029297}], 'Parents': [{'Name': 'Person'}]}, {'Name': 'Pedestrian', 'Confidence': 90.62931060791016, 'Instances': [], 'Parents': [{'Name': 'Person'}]}], 'LabelModelVersion': '2.0', 'ResponseMetadata': {'RequestId': '75833d83-3591-4783-9f22-f723988ca87e', 'HTTPStatusCode': 200, 'HTTPHeaders': {'content-type': 'application/x-amz-json-1.1', 'date': 'Fri, 11 Oct 2019 02:56:20 GMT', 'x-amzn-requestid': '75833d83-3591-4783-9f22-f723988ca87e', 'content-length': '4769', 'connection': 'keep-alive'}, 'RetryAttempts': 0}}\n"
     ]
    }
   ],
   "source": [
    "response = client.detect_labels(\n",
    "    Image={\n",
    "        'S3Object': {\n",
    "            'Bucket': 'dikers.nwcd',\n",
    "            'Name': 'skateboard.jpg' \n",
    "        }\n",
    "    },\n",
    "    MaxLabels=6,\n",
    "    MinConfidence=0.8\n",
    ")\n",
    "print(response)"
   ]
  },
  {
   "cell_type": "markdown",
   "metadata": {},
   "source": [
    "![Image](./images/002.png)"
   ]
  },
  {
   "cell_type": "code",
   "execution_count": null,
   "metadata": {},
   "outputs": [],
   "source": []
  }
 ],
 "metadata": {
  "kernelspec": {
   "display_name": "Python 3",
   "language": "python",
   "name": "python3"
  },
  "language_info": {
   "codemirror_mode": {
    "name": "ipython",
    "version": 3
   },
   "file_extension": ".py",
   "mimetype": "text/x-python",
   "name": "python",
   "nbconvert_exporter": "python",
   "pygments_lexer": "ipython3",
   "version": "3.6.5"
  }
 },
 "nbformat": 4,
 "nbformat_minor": 2
}
